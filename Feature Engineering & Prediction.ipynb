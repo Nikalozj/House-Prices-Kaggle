{
 "cells": [
  {
   "cell_type": "code",
   "execution_count": 1,
   "id": "82c0f632",
   "metadata": {},
   "outputs": [],
   "source": [
    "import numpy as np\n",
    "import pandas as pd\n",
    "import matplotlib.pyplot as plt\n",
    "import seaborn as sns\n",
    "from scipy.stats import skew\n",
    "from sklearn.preprocessing import StandardScaler"
   ]
  },
  {
   "cell_type": "code",
   "execution_count": 2,
   "id": "3962e04b",
   "metadata": {},
   "outputs": [],
   "source": [
    "housing = pd.read_csv(r'C:\\Users\\Rog\\Desktop\\Housing\\train.csv')"
   ]
  },
  {
   "cell_type": "code",
   "execution_count": 3,
   "id": "6cf57a52",
   "metadata": {},
   "outputs": [
    {
     "data": {
      "text/html": [
       "<div>\n",
       "<style scoped>\n",
       "    .dataframe tbody tr th:only-of-type {\n",
       "        vertical-align: middle;\n",
       "    }\n",
       "\n",
       "    .dataframe tbody tr th {\n",
       "        vertical-align: top;\n",
       "    }\n",
       "\n",
       "    .dataframe thead th {\n",
       "        text-align: right;\n",
       "    }\n",
       "</style>\n",
       "<table border=\"1\" class=\"dataframe\">\n",
       "  <thead>\n",
       "    <tr style=\"text-align: right;\">\n",
       "      <th></th>\n",
       "      <th>Id</th>\n",
       "      <th>MSSubClass</th>\n",
       "      <th>MSZoning</th>\n",
       "      <th>LotFrontage</th>\n",
       "      <th>LotArea</th>\n",
       "      <th>Street</th>\n",
       "      <th>Alley</th>\n",
       "      <th>LotShape</th>\n",
       "      <th>LandContour</th>\n",
       "      <th>Utilities</th>\n",
       "      <th>...</th>\n",
       "      <th>PoolArea</th>\n",
       "      <th>PoolQC</th>\n",
       "      <th>Fence</th>\n",
       "      <th>MiscFeature</th>\n",
       "      <th>MiscVal</th>\n",
       "      <th>MoSold</th>\n",
       "      <th>YrSold</th>\n",
       "      <th>SaleType</th>\n",
       "      <th>SaleCondition</th>\n",
       "      <th>SalePrice</th>\n",
       "    </tr>\n",
       "  </thead>\n",
       "  <tbody>\n",
       "    <tr>\n",
       "      <th>0</th>\n",
       "      <td>1</td>\n",
       "      <td>60</td>\n",
       "      <td>RL</td>\n",
       "      <td>65.0</td>\n",
       "      <td>8450</td>\n",
       "      <td>Pave</td>\n",
       "      <td>NaN</td>\n",
       "      <td>Reg</td>\n",
       "      <td>Lvl</td>\n",
       "      <td>AllPub</td>\n",
       "      <td>...</td>\n",
       "      <td>0</td>\n",
       "      <td>NaN</td>\n",
       "      <td>NaN</td>\n",
       "      <td>NaN</td>\n",
       "      <td>0</td>\n",
       "      <td>2</td>\n",
       "      <td>2008</td>\n",
       "      <td>WD</td>\n",
       "      <td>Normal</td>\n",
       "      <td>208500</td>\n",
       "    </tr>\n",
       "    <tr>\n",
       "      <th>1</th>\n",
       "      <td>2</td>\n",
       "      <td>20</td>\n",
       "      <td>RL</td>\n",
       "      <td>80.0</td>\n",
       "      <td>9600</td>\n",
       "      <td>Pave</td>\n",
       "      <td>NaN</td>\n",
       "      <td>Reg</td>\n",
       "      <td>Lvl</td>\n",
       "      <td>AllPub</td>\n",
       "      <td>...</td>\n",
       "      <td>0</td>\n",
       "      <td>NaN</td>\n",
       "      <td>NaN</td>\n",
       "      <td>NaN</td>\n",
       "      <td>0</td>\n",
       "      <td>5</td>\n",
       "      <td>2007</td>\n",
       "      <td>WD</td>\n",
       "      <td>Normal</td>\n",
       "      <td>181500</td>\n",
       "    </tr>\n",
       "    <tr>\n",
       "      <th>2</th>\n",
       "      <td>3</td>\n",
       "      <td>60</td>\n",
       "      <td>RL</td>\n",
       "      <td>68.0</td>\n",
       "      <td>11250</td>\n",
       "      <td>Pave</td>\n",
       "      <td>NaN</td>\n",
       "      <td>IR1</td>\n",
       "      <td>Lvl</td>\n",
       "      <td>AllPub</td>\n",
       "      <td>...</td>\n",
       "      <td>0</td>\n",
       "      <td>NaN</td>\n",
       "      <td>NaN</td>\n",
       "      <td>NaN</td>\n",
       "      <td>0</td>\n",
       "      <td>9</td>\n",
       "      <td>2008</td>\n",
       "      <td>WD</td>\n",
       "      <td>Normal</td>\n",
       "      <td>223500</td>\n",
       "    </tr>\n",
       "    <tr>\n",
       "      <th>3</th>\n",
       "      <td>4</td>\n",
       "      <td>70</td>\n",
       "      <td>RL</td>\n",
       "      <td>60.0</td>\n",
       "      <td>9550</td>\n",
       "      <td>Pave</td>\n",
       "      <td>NaN</td>\n",
       "      <td>IR1</td>\n",
       "      <td>Lvl</td>\n",
       "      <td>AllPub</td>\n",
       "      <td>...</td>\n",
       "      <td>0</td>\n",
       "      <td>NaN</td>\n",
       "      <td>NaN</td>\n",
       "      <td>NaN</td>\n",
       "      <td>0</td>\n",
       "      <td>2</td>\n",
       "      <td>2006</td>\n",
       "      <td>WD</td>\n",
       "      <td>Abnorml</td>\n",
       "      <td>140000</td>\n",
       "    </tr>\n",
       "    <tr>\n",
       "      <th>4</th>\n",
       "      <td>5</td>\n",
       "      <td>60</td>\n",
       "      <td>RL</td>\n",
       "      <td>84.0</td>\n",
       "      <td>14260</td>\n",
       "      <td>Pave</td>\n",
       "      <td>NaN</td>\n",
       "      <td>IR1</td>\n",
       "      <td>Lvl</td>\n",
       "      <td>AllPub</td>\n",
       "      <td>...</td>\n",
       "      <td>0</td>\n",
       "      <td>NaN</td>\n",
       "      <td>NaN</td>\n",
       "      <td>NaN</td>\n",
       "      <td>0</td>\n",
       "      <td>12</td>\n",
       "      <td>2008</td>\n",
       "      <td>WD</td>\n",
       "      <td>Normal</td>\n",
       "      <td>250000</td>\n",
       "    </tr>\n",
       "  </tbody>\n",
       "</table>\n",
       "<p>5 rows × 81 columns</p>\n",
       "</div>"
      ],
      "text/plain": [
       "   Id  MSSubClass MSZoning  LotFrontage  LotArea Street Alley LotShape  \\\n",
       "0   1          60       RL         65.0     8450   Pave   NaN      Reg   \n",
       "1   2          20       RL         80.0     9600   Pave   NaN      Reg   \n",
       "2   3          60       RL         68.0    11250   Pave   NaN      IR1   \n",
       "3   4          70       RL         60.0     9550   Pave   NaN      IR1   \n",
       "4   5          60       RL         84.0    14260   Pave   NaN      IR1   \n",
       "\n",
       "  LandContour Utilities  ... PoolArea PoolQC Fence MiscFeature MiscVal MoSold  \\\n",
       "0         Lvl    AllPub  ...        0    NaN   NaN         NaN       0      2   \n",
       "1         Lvl    AllPub  ...        0    NaN   NaN         NaN       0      5   \n",
       "2         Lvl    AllPub  ...        0    NaN   NaN         NaN       0      9   \n",
       "3         Lvl    AllPub  ...        0    NaN   NaN         NaN       0      2   \n",
       "4         Lvl    AllPub  ...        0    NaN   NaN         NaN       0     12   \n",
       "\n",
       "  YrSold  SaleType  SaleCondition  SalePrice  \n",
       "0   2008        WD         Normal     208500  \n",
       "1   2007        WD         Normal     181500  \n",
       "2   2008        WD         Normal     223500  \n",
       "3   2006        WD        Abnorml     140000  \n",
       "4   2008        WD         Normal     250000  \n",
       "\n",
       "[5 rows x 81 columns]"
      ]
     },
     "execution_count": 3,
     "metadata": {},
     "output_type": "execute_result"
    }
   ],
   "source": [
    "housing.head()"
   ]
  },
  {
   "cell_type": "code",
   "execution_count": 4,
   "id": "f215c2a2",
   "metadata": {},
   "outputs": [
    {
     "data": {
      "text/plain": [
       "(1460, 81)"
      ]
     },
     "execution_count": 4,
     "metadata": {},
     "output_type": "execute_result"
    }
   ],
   "source": [
    "housing.shape"
   ]
  },
  {
   "cell_type": "code",
   "execution_count": 5,
   "id": "b55e2475",
   "metadata": {},
   "outputs": [
    {
     "name": "stdout",
     "output_type": "stream",
     "text": [
      "<class 'pandas.core.frame.DataFrame'>\n",
      "RangeIndex: 1460 entries, 0 to 1459\n",
      "Data columns (total 81 columns):\n",
      " #   Column         Non-Null Count  Dtype  \n",
      "---  ------         --------------  -----  \n",
      " 0   Id             1460 non-null   int64  \n",
      " 1   MSSubClass     1460 non-null   int64  \n",
      " 2   MSZoning       1460 non-null   object \n",
      " 3   LotFrontage    1201 non-null   float64\n",
      " 4   LotArea        1460 non-null   int64  \n",
      " 5   Street         1460 non-null   object \n",
      " 6   Alley          91 non-null     object \n",
      " 7   LotShape       1460 non-null   object \n",
      " 8   LandContour    1460 non-null   object \n",
      " 9   Utilities      1460 non-null   object \n",
      " 10  LotConfig      1460 non-null   object \n",
      " 11  LandSlope      1460 non-null   object \n",
      " 12  Neighborhood   1460 non-null   object \n",
      " 13  Condition1     1460 non-null   object \n",
      " 14  Condition2     1460 non-null   object \n",
      " 15  BldgType       1460 non-null   object \n",
      " 16  HouseStyle     1460 non-null   object \n",
      " 17  OverallQual    1460 non-null   int64  \n",
      " 18  OverallCond    1460 non-null   int64  \n",
      " 19  YearBuilt      1460 non-null   int64  \n",
      " 20  YearRemodAdd   1460 non-null   int64  \n",
      " 21  RoofStyle      1460 non-null   object \n",
      " 22  RoofMatl       1460 non-null   object \n",
      " 23  Exterior1st    1460 non-null   object \n",
      " 24  Exterior2nd    1460 non-null   object \n",
      " 25  MasVnrType     1452 non-null   object \n",
      " 26  MasVnrArea     1452 non-null   float64\n",
      " 27  ExterQual      1460 non-null   object \n",
      " 28  ExterCond      1460 non-null   object \n",
      " 29  Foundation     1460 non-null   object \n",
      " 30  BsmtQual       1423 non-null   object \n",
      " 31  BsmtCond       1423 non-null   object \n",
      " 32  BsmtExposure   1422 non-null   object \n",
      " 33  BsmtFinType1   1423 non-null   object \n",
      " 34  BsmtFinSF1     1460 non-null   int64  \n",
      " 35  BsmtFinType2   1422 non-null   object \n",
      " 36  BsmtFinSF2     1460 non-null   int64  \n",
      " 37  BsmtUnfSF      1460 non-null   int64  \n",
      " 38  TotalBsmtSF    1460 non-null   int64  \n",
      " 39  Heating        1460 non-null   object \n",
      " 40  HeatingQC      1460 non-null   object \n",
      " 41  CentralAir     1460 non-null   object \n",
      " 42  Electrical     1459 non-null   object \n",
      " 43  1stFlrSF       1460 non-null   int64  \n",
      " 44  2ndFlrSF       1460 non-null   int64  \n",
      " 45  LowQualFinSF   1460 non-null   int64  \n",
      " 46  GrLivArea      1460 non-null   int64  \n",
      " 47  BsmtFullBath   1460 non-null   int64  \n",
      " 48  BsmtHalfBath   1460 non-null   int64  \n",
      " 49  FullBath       1460 non-null   int64  \n",
      " 50  HalfBath       1460 non-null   int64  \n",
      " 51  BedroomAbvGr   1460 non-null   int64  \n",
      " 52  KitchenAbvGr   1460 non-null   int64  \n",
      " 53  KitchenQual    1460 non-null   object \n",
      " 54  TotRmsAbvGrd   1460 non-null   int64  \n",
      " 55  Functional     1460 non-null   object \n",
      " 56  Fireplaces     1460 non-null   int64  \n",
      " 57  FireplaceQu    770 non-null    object \n",
      " 58  GarageType     1379 non-null   object \n",
      " 59  GarageYrBlt    1379 non-null   float64\n",
      " 60  GarageFinish   1379 non-null   object \n",
      " 61  GarageCars     1460 non-null   int64  \n",
      " 62  GarageArea     1460 non-null   int64  \n",
      " 63  GarageQual     1379 non-null   object \n",
      " 64  GarageCond     1379 non-null   object \n",
      " 65  PavedDrive     1460 non-null   object \n",
      " 66  WoodDeckSF     1460 non-null   int64  \n",
      " 67  OpenPorchSF    1460 non-null   int64  \n",
      " 68  EnclosedPorch  1460 non-null   int64  \n",
      " 69  3SsnPorch      1460 non-null   int64  \n",
      " 70  ScreenPorch    1460 non-null   int64  \n",
      " 71  PoolArea       1460 non-null   int64  \n",
      " 72  PoolQC         7 non-null      object \n",
      " 73  Fence          281 non-null    object \n",
      " 74  MiscFeature    54 non-null     object \n",
      " 75  MiscVal        1460 non-null   int64  \n",
      " 76  MoSold         1460 non-null   int64  \n",
      " 77  YrSold         1460 non-null   int64  \n",
      " 78  SaleType       1460 non-null   object \n",
      " 79  SaleCondition  1460 non-null   object \n",
      " 80  SalePrice      1460 non-null   int64  \n",
      "dtypes: float64(3), int64(35), object(43)\n",
      "memory usage: 924.0+ KB\n"
     ]
    }
   ],
   "source": [
    "housing.info()"
   ]
  },
  {
   "cell_type": "code",
   "execution_count": 6,
   "id": "63f4367d",
   "metadata": {},
   "outputs": [],
   "source": [
    "# Check Nulls"
   ]
  },
  {
   "cell_type": "code",
   "execution_count": 7,
   "id": "a52af023",
   "metadata": {},
   "outputs": [
    {
     "data": {
      "text/plain": [
       "<AxesSubplot:>"
      ]
     },
     "execution_count": 7,
     "metadata": {},
     "output_type": "execute_result"
    },
    {
     "data": {
      "image/png": "[encoded data removed]",
      "text/plain": [
       "<Figure size 1440x360 with 2 Axes>"
      ]
     },
     "metadata": {
      "needs_background": "light"
     },
     "output_type": "display_data"
    }
   ],
   "source": [
    "plt.figure(figsize=(20,5))\n",
    "\n",
    "sns.heatmap(housing.isnull())"
   ]
  },
  {
   "cell_type": "code",
   "execution_count": 8,
   "id": "2f7304b8",
   "metadata": {},
   "outputs": [
    {
     "data": {
      "text/plain": [
       "<AxesSubplot:>"
      ]
     },
     "execution_count": 8,
     "metadata": {},
     "output_type": "execute_result"
    },
    {
     "data": {
      "image/png": "[encoded data removed]",
      "text/plain": [
       "<Figure size 720x720 with 2 Axes>"
      ]
     },
     "metadata": {
      "needs_background": "light"
     },
     "output_type": "display_data"
    }
   ],
   "source": [
    "# Check Corr\n",
    "plt.figure(figsize=(10,10))\n",
    "sns.heatmap(housing.corr(), cmap='viridis', vmin = -0.8, vmax = 0.8 )"
   ]
  },
  {
   "cell_type": "code",
   "execution_count": 9,
   "id": "00f6e79b",
   "metadata": {},
   "outputs": [
    {
     "data": {
      "text/plain": [
       "PoolQC          1453\n",
       "MiscFeature     1406\n",
       "Alley           1369\n",
       "Fence           1179\n",
       "FireplaceQu      690\n",
       "LotFrontage      259\n",
       "GarageType        81\n",
       "GarageYrBlt       81\n",
       "GarageFinish      81\n",
       "GarageQual        81\n",
       "GarageCond        81\n",
       "BsmtExposure      38\n",
       "BsmtFinType2      38\n",
       "BsmtFinType1      37\n",
       "BsmtCond          37\n",
       "BsmtQual          37\n",
       "MasVnrArea         8\n",
       "MasVnrType         8\n",
       "Electrical         1\n",
       "dtype: int64"
      ]
     },
     "execution_count": 9,
     "metadata": {},
     "output_type": "execute_result"
    }
   ],
   "source": [
    "# Lets see the columns with nulls with respective number of nulls and follow one by one\n",
    "housing.isnull().sum()[housing.isnull().sum() > 0].sort_values(ascending = False)"
   ]
  },
  {
   "cell_type": "code",
   "execution_count": 10,
   "id": "d98ecd15",
   "metadata": {},
   "outputs": [],
   "source": [
    "y = np.log1p(housing['SalePrice'])\n",
    "X = housing.drop('SalePrice', axis = 1)\n",
    "\n",
    "\n",
    "from sklearn.model_selection import train_test_split\n",
    "X_train, X_test, y_train, y_test = train_test_split(X, y, test_size=0.3, random_state=101)"
   ]
  },
  {
   "cell_type": "code",
   "execution_count": 11,
   "id": "440e0305",
   "metadata": {},
   "outputs": [],
   "source": [
    "# Impute and create missing indicator fields\n",
    "def impute_and_indicate(df, col):\n",
    "    df[col + \"_ind\"] = df[col].apply(lambda x: 0 if pd.isna(x) else 1)\n",
    "    if df[col].dtype == 'O':\n",
    "        df[col] = df[col].fillna(\"No\")\n",
    "    else:\n",
    "        df[col] = df[col].fillna(df[col].mean())"
   ]
  },
  {
   "cell_type": "code",
   "execution_count": 12,
   "id": "22cce93f",
   "metadata": {},
   "outputs": [],
   "source": [
    "def preprocess(df):\n",
    "    \n",
    "    # MSSubclass & \"MoSold\" are Categories so we should change their dtype to \"object\"\n",
    "    df = df.astype({\"MSSubClass\" : \"object\", \"MoSold\" : \"object\"})\n",
    "    \n",
    "    \n",
    "    # Imputation\n",
    "    c_imp = ['FireplaceQu', 'LotFrontage', 'GarageType', 'GarageFinish', 'GarageQual', 'GarageCond',\n",
    "            'BsmtExposure', 'BsmtFinType2', 'BsmtFinType1', 'BsmtCond', 'BsmtQual', 'MasVnrType', 'MasVnrArea',\n",
    "            'PoolArea', 'MiscFeature', 'Alley', 'Fence']\n",
    "    \n",
    "    for col in c_imp:\n",
    "        impute_and_indicate(df, col)\n",
    "    \n",
    "    c_ind = [col for col in df.columns if '_ind' in col]\n",
    "    \n",
    "    df = df.apply(lambda x : x.fillna(x.value_counts().index[0]))\n",
    "    \n",
    "    # Drop Columns\n",
    "    \n",
    "    # Drop ID\n",
    "    df.drop('Id', axis = 1, inplace = True)\n",
    "    \n",
    "    # Drop columns with High correlation\n",
    "    df.drop(['GarageArea', '1stFlrSF', 'YearRemodAdd', 'TotRmsAbvGrd', 'BsmtUnfSF', 'BsmtFullBath'],\n",
    "                 axis = 1, inplace = True)\n",
    "    \n",
    "    # Drop GarageBlt\n",
    "    df.drop('GarageYrBlt', axis = 1, inplace = True)\n",
    "    \n",
    "    # Encode Features\n",
    "    c_encoded = ['GarageQual', 'GarageCond', 'LotShape', 'Utilities', 'LandSlope', 'ExterQual',\n",
    "            'ExterCond', 'BsmtQual', 'BsmtCond', 'BsmtExposure', 'BsmtFinType1', 'BsmtFinType2',\n",
    "            'HeatingQC', 'KitchenQual', 'Functional', 'FireplaceQu', 'GarageFinish', 'PavedDrive']\n",
    "\n",
    "    df['GarageQual'] = df['GarageQual'].replace({\n",
    "        'No' : 0, 'Po' : 1, 'Fa' : 2, 'TA' : 3, 'Gd' : 4, 'Ex' : 5\n",
    "    })\n",
    "\n",
    "    df['GarageCond'] = df['GarageCond'].replace({\n",
    "        'No' : 0, 'Po' : 1, 'Fa' : 2, 'TA' : 3, 'Gd' : 4, 'Ex' : 5\n",
    "    })\n",
    "\n",
    "    df['LotShape'] = df['LotShape'].replace({\n",
    "        'IR3' : 1 , 'IR2' : 2, 'IR1' : 3, 'Reg' : 4\n",
    "    })\n",
    "\n",
    "    df['Utilities'] = df['Utilities'].replace({\n",
    "        'ELO' : 1, 'NoSeWa' : 2, 'NoSewr' : 3, 'AllPub' : 4\n",
    "    })\n",
    "    \n",
    "    df['LandSlope'] = df['LandSlope'].replace({\n",
    "        'Gtl' : 1, 'Mod' : 2, 'Sev' : 3\n",
    "    })\n",
    "    \n",
    "    df['ExterQual'] = df['ExterQual'].replace({\n",
    "        'No' : 0, 'Po' : 1, 'Fa' : 2, 'TA' : 3, 'Gd' : 4, 'Ex' : 5\n",
    "    })\n",
    "    \n",
    "    df['ExterCond'] = df['ExterCond'].replace({\n",
    "        'No' : 0, 'Po' : 1, 'Fa' : 2, 'TA' : 3, 'Gd' : 4, 'Ex' : 5\n",
    "    })\n",
    "    \n",
    "    df['BsmtQual'] = df['BsmtQual'].replace({\n",
    "        'No' : 0, 'Po' : 1, 'Fa' : 2, 'TA' : 3, 'Gd' : 4, 'Ex' : 5\n",
    "    })\n",
    "    \n",
    "    df['BsmtCond'] = df['BsmtCond'].replace({\n",
    "        'No' : 0, 'Po' : 1, 'Fa' : 2, 'TA' : 3, 'Gd' : 4, 'Ex' : 5\n",
    "    })\n",
    "\n",
    "    df['BsmtExposure'] = df['BsmtExposure'].replace({\n",
    "        'No' : 0, 'Mn' : 1, 'Av' : 2, 'Gd' : 3\n",
    "    })\n",
    "    \n",
    "    df['BsmtFinType1'] = df['BsmtFinType1'].replace({\n",
    "        'No' : 0, 'Unf' : 1, 'LwQ' : 2, 'Rec' : 3, 'BLQ' : 4, 'ALQ' : 5, 'GLQ' : 6\n",
    "    })\n",
    "    \n",
    "    df['BsmtFinType2'] = df['BsmtFinType2'].replace({\n",
    "        'No' : 0, 'Unf' : 1, 'LwQ' : 2, 'Rec' : 3, 'BLQ' : 4, 'ALQ' : 5, 'GLQ' : 6\n",
    "    })\n",
    "    \n",
    "    df['HeatingQC'] = df['HeatingQC'].replace({\n",
    "        'No' : 0, 'Po' : 1, 'Fa' : 2, 'TA' : 3, 'Gd' : 4, 'Ex' : 5\n",
    "    })\n",
    "    \n",
    "    df['KitchenQual'] = df['KitchenQual'].replace({\n",
    "        'No' : 0, 'Po' : 1, 'Fa' : 2, 'TA' : 3, 'Gd' : 4, 'Ex' : 5\n",
    "    })\n",
    "    \n",
    "    df['Functional'] = df['Functional'].replace({\n",
    "        'Sal' : 1, 'Sev' : 2, 'Maj1' : 3, 'Maj2' : 3, 'Mod' : 4, 'Min1' : 5, 'Min2' : 5, 'Typ' : 6\n",
    "    })\n",
    "    \n",
    "    df['FireplaceQu'] = df['FireplaceQu'].replace({\n",
    "        'No' : 0, 'Po' : 1, 'Fa' : 2, 'TA' : 3, 'Gd' : 4, 'Ex' : 5\n",
    "    })\n",
    "    \n",
    "    df['GarageFinish'] = df['GarageFinish'].replace({\n",
    "        'No' : 0, 'Unf' : 1, 'RFn' : 2, 'Fin' : 3\n",
    "    })\n",
    "    \n",
    "    df['PavedDrive'] = df['PavedDrive'].replace({\n",
    "        'N' : 1, 'P' : 2, 'Y' : 3\n",
    "    })\n",
    "    \n",
    "    # Simplify Features\n",
    "    c_simple = ['OverallQual', 'OverallCond']\n",
    "    \n",
    "    housing['OvarallQual'] = housing.OverallQual.replace({\n",
    "        1 : 1, 2 : 1, 3 : 1, 4 : 1,\n",
    "        5 : 2, 6 : 2, 7 : 2,\n",
    "        8 : 3, 9 : 3, 10 : 3\n",
    "    })\n",
    "    \n",
    "    df['OvarallCond'] = df.OverallCond.replace({\n",
    "        1 : 1, 2 : 1, 3 : 1, 4 : 1,\n",
    "        5 : 2, 6 : 2, 7 : 2,\n",
    "        8 : 3, 9 : 3, 10 : 3 \n",
    "    })\n",
    "    \n",
    "    \n",
    "    # Process Features\n",
    "    cat_features = df.select_dtypes(include = [\"object\"]).columns\n",
    "    num_features = df.select_dtypes(exclude = [\"object\"]).columns\n",
    "\n",
    "    df_cat = df[cat_features]\n",
    "    df_num = df[list(set(num_features) - set(c_encoded) - set(c_simple) - set(c_ind))]\n",
    "    # Normalize with Log\n",
    "    skewness = df_num.apply(lambda x: skew(x))\n",
    "    skewness = skewness[abs(skewness) > 0.5]\n",
    "    skewed_features = skewness.index\n",
    "    df[skewed_features] = np.log1p(df_num[skewed_features])\n",
    "    \n",
    "    # Get Dummies\n",
    "    df_cat = pd.get_dummies(df_cat, drop_first = True)\n",
    "    \n",
    "    # Concat to get final X\n",
    "    X = pd.concat([df_num, df_cat, df[c_encoded], df[c_simple], df[c_ind]], axis = 1)\n",
    "    \n",
    "    return X, df_num.columns\n"
   ]
  },
  {
   "cell_type": "code",
   "execution_count": 13,
   "id": "a8cc83a1",
   "metadata": {},
   "outputs": [],
   "source": [
    "# Preprocess train and test\n",
    "X_train, num_features_tr = preprocess(X_train)\n",
    "X_test, num_features_test = preprocess(X_test)\n",
    "\n",
    "dummie_diff_train = list(set(X_test.columns) - set(X_train.columns))\n",
    "X_train[[dummie_diff_train]] = 0\n",
    "dummie_diff_test = list(set(X_train.columns) - set(X_test.columns))\n",
    "X_test[[dummie_diff_test]] = 0"
   ]
  },
  {
   "cell_type": "code",
   "execution_count": 14,
   "id": "71af3293",
   "metadata": {},
   "outputs": [],
   "source": [
    "# Scale num features\n",
    "scaler = StandardScaler()\n",
    "X_train.loc[:, num_features_tr] = scaler.fit_transform(X_train.loc[:, num_features_tr])\n",
    "X_test.loc[:, num_features_test] = scaler.transform(X_test.loc[:, num_features_test])"
   ]
  },
  {
   "cell_type": "markdown",
   "id": "5b21aa6f",
   "metadata": {},
   "source": [
    "# Model Selection"
   ]
  },
  {
   "cell_type": "code",
   "execution_count": 15,
   "id": "7ddec31a",
   "metadata": {},
   "outputs": [],
   "source": [
    "from sklearn.pipeline import Pipeline\n",
    "from sklearn.metrics import mean_squared_error\n",
    "\n",
    "from sklearn.linear_model import LinearRegression\n",
    "from sklearn.pipeline import Pipeline\n",
    "from sklearn.preprocessing import PolynomialFeatures\n",
    "from sklearn.linear_model import RidgeCV\n",
    "from sklearn.linear_model import LassoCV\n",
    "from sklearn.linear_model import LassoLarsCV\n",
    "from sklearn.linear_model import ElasticNetCV\n",
    "from sklearn.tree import DecisionTreeRegressor\n",
    "from sklearn.ensemble import RandomForestRegressor\n",
    "from sklearn.linear_model import SGDRegressor\n",
    "from sklearn.ensemble import GradientBoostingRegressor\n",
    "from catboost import CatBoostRegressor\n",
    "from xgboost.sklearn import XGBRegressor"
   ]
  },
  {
   "cell_type": "code",
   "execution_count": 16,
   "id": "0f5b4b7d",
   "metadata": {},
   "outputs": [],
   "source": [
    "def predict(X_train, y_train, X_test, y_test, elasticnet_a = 0.01):\n",
    "    model = []\n",
    "    rmse = []\n",
    "    \n",
    "    # Polynomial\n",
    "    polynomial_regression = Pipeline([\n",
    "    (\"poly_features\", PolynomialFeatures(degree = 2, include_bias = False)),\n",
    "    (\"lin_reg\", LinearRegression())\n",
    "    ])\n",
    "    \n",
    "    polynomial_regression.fit(X_train, y_train)\n",
    "    y_pred = polynomial_regression.predict(X_test)\n",
    "    \n",
    "    model.append('Polynomial')\n",
    "    rmse.append(np.sqrt(mean_squared_error(y_pred, y_test)))\n",
    "    \n",
    "    # RidgeCV\n",
    "    ridge_reg = RidgeCV(alphas = [0.01, 0.03, 0.06, 0.1, 0.3, 0.6, 1, 3, 6, 10, 13, 17, 22, 30, 60])\n",
    "    ridge_reg.fit(X_train, y_train)\n",
    "    y_pred = ridge_reg.predict(X_test)\n",
    "    \n",
    "    alpha = ridge_reg.alpha_\n",
    "    \n",
    "    model.append('RidgeCV')\n",
    "    rmse.append(np.sqrt(mean_squared_error(y_pred, y_test)))\n",
    "    \n",
    "    # Lasso\n",
    "    lasso_reg = LassoCV(alphas = [0.001, 0.01, 0.03, 0.06, 0.1, 0.3, 0.6, 1, 3, 6, 10, 13, 17, 22, 30])\n",
    "    lasso_reg.fit(X_train, y_train)\n",
    "    y_pred = lasso_reg.predict(X_test)\n",
    "    \n",
    "    model.append('LassoCV')\n",
    "    rmse.append(np.sqrt(mean_squared_error(y_pred, y_test)))\n",
    "    \n",
    "    \n",
    "    # LassoLarsCV\n",
    "    lasso_lars = LassoLarsCV(max_iter = 10000)\n",
    "    lasso_lars.fit(X_train, y_train)\n",
    "    y_pred = lasso_lars.predict(X_test)\n",
    "    \n",
    "    model.append('LassoLarsCV')\n",
    "    rmse.append(np.sqrt(mean_squared_error(y_pred, y_test)))\n",
    "    \n",
    "    \n",
    "    # ElasticNet\n",
    "    en_reg = ElasticNetCV(l1_ratio = [0.1, 0.2, 0.3, 0.4, 0.5, 0.7, 0.8, 0.9, 0.95, 1],\n",
    "                        alphas = [0.01, 0.03, 0.06, 0.1, 0.3, 0.6, 1, 3, 6, 10, 13, 17, 22, 30, 60],\n",
    "                        max_iter = 50000, cv = 10)\n",
    "    en_reg.fit(X_train, y_train)\n",
    "    y_pred = en_reg.predict(X_test)\n",
    "    \n",
    "    model.append('ElasticNet')\n",
    "    rmse.append(np.sqrt(mean_squared_error(y_pred, y_test)))\n",
    "    \n",
    "    # SGDRegressor\n",
    "    # sgd_reg = SGDRegressor()\n",
    "    # sgd_reg.fit(X_train,y_train)\n",
    "    # y_pred = sgd_reg.predict(X_test)\n",
    "    \n",
    "    # model.append('SGDRegressor')\n",
    "    # rmse.append(np.sqrt(mean_squared_error(y_pred, y_test)))\n",
    "    \n",
    "    # DecisionTreeRegressor\n",
    "    tree_reg = DecisionTreeRegressor()\n",
    "    tree_reg.fit(X_train, y_train)\n",
    "    y_pred = tree_reg.predict(X_test)\n",
    "    \n",
    "    model.append('DecisionTreeRegressor')\n",
    "    rmse.append(np.sqrt(mean_squared_error(y_pred, y_test)))\n",
    "    \n",
    "    # RandomForestRegressor\n",
    "    rf_reg = RandomForestRegressor()\n",
    "    rf_reg.fit(X_train, y_train)\n",
    "    y_pred = rf_reg.predict(X_test)\n",
    "    \n",
    "    model.append('RandomForestRegressor')\n",
    "    rmse.append(np.sqrt(mean_squared_error(y_pred, y_test)))\n",
    "    \n",
    "    # GradientBoostingRegressor\n",
    "    GBR_reg = GradientBoostingRegressor()\n",
    "    GBR_reg.fit(X_train,y_train)\n",
    "    y_pred = GBR_reg.predict(X_test)\n",
    "    \n",
    "    model.append('GradientBoostingRegressor')\n",
    "    rmse.append(np.sqrt(mean_squared_error(y_pred, y_test)))\n",
    "    \n",
    "    # CatBoostRegressor\n",
    "    cat_reg = GradientBoostingRegressor()\n",
    "    cat_reg.fit(X_train,y_train)\n",
    "    y_pred = cat_reg.predict(X_test)\n",
    "    \n",
    "    model.append('CatBoostRegressor')\n",
    "    rmse.append(np.sqrt(mean_squared_error(y_pred, y_test)))\n",
    "    \n",
    "    # XGBRegressor\n",
    "    xgbr_reg = XGBRegressor()\n",
    "    xgbr_reg.fit(X_train,y_train)\n",
    "    y_pred = xgbr_reg.predict(X_test)\n",
    "    \n",
    "    model.append('XGBRegressor')\n",
    "    rmse.append(np.sqrt(mean_squared_error(y_pred, y_test)))\n",
    "    \n",
    "    \n",
    "    # Move values to DF & Sort ASC\n",
    "    df = pd.DataFrame()\n",
    "    df['model'] = model\n",
    "    df['rmse'] = rmse\n",
    "    \n",
    "    df.sort_values('rmse', inplace=True)\n",
    "    \n",
    "    # Plot\n",
    "    plt.figure(figsize = (10,5))\n",
    "    sns.barplot(x = df['rmse'], y = df['model'])\n",
    "    plt.show()\n",
    "    \n",
    "    print(df)\n",
    "    return GBR_reg\n",
    "    \n",
    "    "
   ]
  },
  {
   "cell_type": "code",
   "execution_count": 17,
   "id": "158acfd3",
   "metadata": {},
   "outputs": [
    {
     "name": "stderr",
     "output_type": "stream",
     "text": [
      "C:\\Users\\Rog\\anaconda3\\lib\\site-packages\\sklearn\\linear_model\\_least_angle.py:615: ConvergenceWarning: Regressors in active set degenerate. Dropping a regressor, after 85 iterations, i.e. alpha=1.257e-04, with an active set of 83 regressors, and the smallest cholesky pivot element being 1.490e-08. Reduce max_iter or increase eps parameters.\n",
      "  warnings.warn('Regressors in active set degenerate. '\n",
      "C:\\Users\\Rog\\anaconda3\\lib\\site-packages\\sklearn\\linear_model\\_least_angle.py:615: ConvergenceWarning: Regressors in active set degenerate. Dropping a regressor, after 93 iterations, i.e. alpha=1.102e-04, with an active set of 89 regressors, and the smallest cholesky pivot element being 2.220e-16. Reduce max_iter or increase eps parameters.\n",
      "  warnings.warn('Regressors in active set degenerate. '\n",
      "C:\\Users\\Rog\\anaconda3\\lib\\site-packages\\sklearn\\linear_model\\_least_angle.py:615: ConvergenceWarning: Regressors in active set degenerate. Dropping a regressor, after 104 iterations, i.e. alpha=9.796e-05, with an active set of 98 regressors, and the smallest cholesky pivot element being 2.220e-16. Reduce max_iter or increase eps parameters.\n",
      "  warnings.warn('Regressors in active set degenerate. '\n",
      "C:\\Users\\Rog\\anaconda3\\lib\\site-packages\\sklearn\\linear_model\\_least_angle.py:615: ConvergenceWarning: Regressors in active set degenerate. Dropping a regressor, after 114 iterations, i.e. alpha=8.335e-05, with an active set of 108 regressors, and the smallest cholesky pivot element being 2.107e-08. Reduce max_iter or increase eps parameters.\n",
      "  warnings.warn('Regressors in active set degenerate. '\n",
      "C:\\Users\\Rog\\anaconda3\\lib\\site-packages\\sklearn\\linear_model\\_least_angle.py:615: ConvergenceWarning: Regressors in active set degenerate. Dropping a regressor, after 114 iterations, i.e. alpha=8.335e-05, with an active set of 108 regressors, and the smallest cholesky pivot element being 1.054e-08. Reduce max_iter or increase eps parameters.\n",
      "  warnings.warn('Regressors in active set degenerate. '\n",
      "C:\\Users\\Rog\\anaconda3\\lib\\site-packages\\sklearn\\linear_model\\_least_angle.py:615: ConvergenceWarning: Regressors in active set degenerate. Dropping a regressor, after 115 iterations, i.e. alpha=8.249e-05, with an active set of 109 regressors, and the smallest cholesky pivot element being 2.220e-16. Reduce max_iter or increase eps parameters.\n",
      "  warnings.warn('Regressors in active set degenerate. '\n",
      "C:\\Users\\Rog\\anaconda3\\lib\\site-packages\\sklearn\\linear_model\\_least_angle.py:615: ConvergenceWarning: Regressors in active set degenerate. Dropping a regressor, after 134 iterations, i.e. alpha=4.700e-05, with an active set of 128 regressors, and the smallest cholesky pivot element being 2.581e-08. Reduce max_iter or increase eps parameters.\n",
      "  warnings.warn('Regressors in active set degenerate. '\n",
      "C:\\Users\\Rog\\anaconda3\\lib\\site-packages\\sklearn\\linear_model\\_least_angle.py:615: ConvergenceWarning: Regressors in active set degenerate. Dropping a regressor, after 140 iterations, i.e. alpha=4.140e-05, with an active set of 134 regressors, and the smallest cholesky pivot element being 2.356e-08. Reduce max_iter or increase eps parameters.\n",
      "  warnings.warn('Regressors in active set degenerate. '\n",
      "C:\\Users\\Rog\\anaconda3\\lib\\site-packages\\sklearn\\linear_model\\_least_angle.py:615: ConvergenceWarning: Regressors in active set degenerate. Dropping a regressor, after 140 iterations, i.e. alpha=4.140e-05, with an active set of 134 regressors, and the smallest cholesky pivot element being 2.107e-08. Reduce max_iter or increase eps parameters.\n",
      "  warnings.warn('Regressors in active set degenerate. '\n",
      "C:\\Users\\Rog\\anaconda3\\lib\\site-packages\\sklearn\\linear_model\\_least_angle.py:615: ConvergenceWarning: Regressors in active set degenerate. Dropping a regressor, after 141 iterations, i.e. alpha=4.086e-05, with an active set of 135 regressors, and the smallest cholesky pivot element being 2.220e-16. Reduce max_iter or increase eps parameters.\n",
      "  warnings.warn('Regressors in active set degenerate. '\n",
      "C:\\Users\\Rog\\anaconda3\\lib\\site-packages\\sklearn\\linear_model\\_least_angle.py:615: ConvergenceWarning: Regressors in active set degenerate. Dropping a regressor, after 144 iterations, i.e. alpha=3.977e-05, with an active set of 134 regressors, and the smallest cholesky pivot element being 1.490e-08. Reduce max_iter or increase eps parameters.\n",
      "  warnings.warn('Regressors in active set degenerate. '\n",
      "C:\\Users\\Rog\\anaconda3\\lib\\site-packages\\sklearn\\linear_model\\_least_angle.py:615: ConvergenceWarning: Regressors in active set degenerate. Dropping a regressor, after 145 iterations, i.e. alpha=3.941e-05, with an active set of 135 regressors, and the smallest cholesky pivot element being 1.825e-08. Reduce max_iter or increase eps parameters.\n",
      "  warnings.warn('Regressors in active set degenerate. '\n",
      "C:\\Users\\Rog\\anaconda3\\lib\\site-packages\\sklearn\\linear_model\\_least_angle.py:615: ConvergenceWarning: Regressors in active set degenerate. Dropping a regressor, after 154 iterations, i.e. alpha=3.135e-05, with an active set of 144 regressors, and the smallest cholesky pivot element being 2.107e-08. Reduce max_iter or increase eps parameters.\n",
      "  warnings.warn('Regressors in active set degenerate. '\n",
      "C:\\Users\\Rog\\anaconda3\\lib\\site-packages\\sklearn\\linear_model\\_least_angle.py:642: ConvergenceWarning: Early stopping the lars path, as the residues are small and the current value of alpha is no longer well controlled. 158 iterations, alpha=3.219e-05, previous alpha=2.813e-05, with an active set of 147 regressors.\n",
      "  warnings.warn('Early stopping the lars path, as the residues '\n",
      "C:\\Users\\Rog\\anaconda3\\lib\\site-packages\\sklearn\\linear_model\\_least_angle.py:615: ConvergenceWarning: Regressors in active set degenerate. Dropping a regressor, after 93 iterations, i.e. alpha=1.077e-04, with an active set of 91 regressors, and the smallest cholesky pivot element being 2.220e-16. Reduce max_iter or increase eps parameters.\n",
      "  warnings.warn('Regressors in active set degenerate. '\n",
      "C:\\Users\\Rog\\anaconda3\\lib\\site-packages\\sklearn\\linear_model\\_least_angle.py:615: ConvergenceWarning: Regressors in active set degenerate. Dropping a regressor, after 112 iterations, i.e. alpha=7.601e-05, with an active set of 110 regressors, and the smallest cholesky pivot element being 2.581e-08. Reduce max_iter or increase eps parameters.\n",
      "  warnings.warn('Regressors in active set degenerate. '\n",
      "C:\\Users\\Rog\\anaconda3\\lib\\site-packages\\sklearn\\linear_model\\_least_angle.py:615: ConvergenceWarning: Regressors in active set degenerate. Dropping a regressor, after 124 iterations, i.e. alpha=6.164e-05, with an active set of 122 regressors, and the smallest cholesky pivot element being 2.107e-08. Reduce max_iter or increase eps parameters.\n",
      "  warnings.warn('Regressors in active set degenerate. '\n",
      "C:\\Users\\Rog\\anaconda3\\lib\\site-packages\\sklearn\\linear_model\\_least_angle.py:615: ConvergenceWarning: Regressors in active set degenerate. Dropping a regressor, after 153 iterations, i.e. alpha=4.017e-05, with an active set of 143 regressors, and the smallest cholesky pivot element being 1.490e-08. Reduce max_iter or increase eps parameters.\n",
      "  warnings.warn('Regressors in active set degenerate. '\n",
      "C:\\Users\\Rog\\anaconda3\\lib\\site-packages\\sklearn\\linear_model\\_least_angle.py:615: ConvergenceWarning: Regressors in active set degenerate. Dropping a regressor, after 153 iterations, i.e. alpha=4.017e-05, with an active set of 143 regressors, and the smallest cholesky pivot element being 2.107e-08. Reduce max_iter or increase eps parameters.\n",
      "  warnings.warn('Regressors in active set degenerate. '\n",
      "C:\\Users\\Rog\\anaconda3\\lib\\site-packages\\sklearn\\linear_model\\_least_angle.py:615: ConvergenceWarning: Regressors in active set degenerate. Dropping a regressor, after 155 iterations, i.e. alpha=3.735e-05, with an active set of 143 regressors, and the smallest cholesky pivot element being 2.107e-08. Reduce max_iter or increase eps parameters.\n",
      "  warnings.warn('Regressors in active set degenerate. '\n",
      "C:\\Users\\Rog\\anaconda3\\lib\\site-packages\\sklearn\\linear_model\\_least_angle.py:615: ConvergenceWarning: Regressors in active set degenerate. Dropping a regressor, after 160 iterations, i.e. alpha=3.643e-05, with an active set of 148 regressors, and the smallest cholesky pivot element being 2.107e-08. Reduce max_iter or increase eps parameters.\n",
      "  warnings.warn('Regressors in active set degenerate. '\n",
      "C:\\Users\\Rog\\anaconda3\\lib\\site-packages\\sklearn\\linear_model\\_least_angle.py:642: ConvergenceWarning: Early stopping the lars path, as the residues are small and the current value of alpha is no longer well controlled. 177 iterations, alpha=2.395e-05, previous alpha=2.379e-05, with an active set of 164 regressors.\n",
      "  warnings.warn('Early stopping the lars path, as the residues '\n",
      "C:\\Users\\Rog\\anaconda3\\lib\\site-packages\\sklearn\\linear_model\\_least_angle.py:615: ConvergenceWarning: Regressors in active set degenerate. Dropping a regressor, after 82 iterations, i.e. alpha=1.415e-04, with an active set of 78 regressors, and the smallest cholesky pivot element being 6.495e-08. Reduce max_iter or increase eps parameters.\n",
      "  warnings.warn('Regressors in active set degenerate. '\n",
      "C:\\Users\\Rog\\anaconda3\\lib\\site-packages\\sklearn\\linear_model\\_least_angle.py:615: ConvergenceWarning: Regressors in active set degenerate. Dropping a regressor, after 83 iterations, i.e. alpha=1.409e-04, with an active set of 79 regressors, and the smallest cholesky pivot element being 6.495e-08. Reduce max_iter or increase eps parameters.\n",
      "  warnings.warn('Regressors in active set degenerate. '\n",
      "C:\\Users\\Rog\\anaconda3\\lib\\site-packages\\sklearn\\linear_model\\_least_angle.py:615: ConvergenceWarning: Regressors in active set degenerate. Dropping a regressor, after 95 iterations, i.e. alpha=1.135e-04, with an active set of 91 regressors, and the smallest cholesky pivot element being 6.495e-08. Reduce max_iter or increase eps parameters.\n",
      "  warnings.warn('Regressors in active set degenerate. '\n",
      "C:\\Users\\Rog\\anaconda3\\lib\\site-packages\\sklearn\\linear_model\\_least_angle.py:642: ConvergenceWarning: Early stopping the lars path, as the residues are small and the current value of alpha is no longer well controlled. 99 iterations, alpha=1.050e-04, previous alpha=1.041e-04, with an active set of 94 regressors.\n",
      "  warnings.warn('Early stopping the lars path, as the residues '\n",
      "C:\\Users\\Rog\\anaconda3\\lib\\site-packages\\sklearn\\linear_model\\_least_angle.py:615: ConvergenceWarning: Regressors in active set degenerate. Dropping a regressor, after 100 iterations, i.e. alpha=1.048e-04, with an active set of 94 regressors, and the smallest cholesky pivot element being 1.825e-08. Reduce max_iter or increase eps parameters.\n",
      "  warnings.warn('Regressors in active set degenerate. '\n",
      "C:\\Users\\Rog\\anaconda3\\lib\\site-packages\\sklearn\\linear_model\\_least_angle.py:615: ConvergenceWarning: Regressors in active set degenerate. Dropping a regressor, after 112 iterations, i.e. alpha=8.283e-05, with an active set of 106 regressors, and the smallest cholesky pivot element being 2.220e-16. Reduce max_iter or increase eps parameters.\n",
      "  warnings.warn('Regressors in active set degenerate. '\n",
      "C:\\Users\\Rog\\anaconda3\\lib\\site-packages\\sklearn\\linear_model\\_least_angle.py:615: ConvergenceWarning: Regressors in active set degenerate. Dropping a regressor, after 143 iterations, i.e. alpha=4.234e-05, with an active set of 135 regressors, and the smallest cholesky pivot element being 1.054e-08. Reduce max_iter or increase eps parameters.\n",
      "  warnings.warn('Regressors in active set degenerate. '\n",
      "C:\\Users\\Rog\\anaconda3\\lib\\site-packages\\sklearn\\linear_model\\_least_angle.py:615: ConvergenceWarning: Regressors in active set degenerate. Dropping a regressor, after 151 iterations, i.e. alpha=3.758e-05, with an active set of 139 regressors, and the smallest cholesky pivot element being 1.490e-08. Reduce max_iter or increase eps parameters.\n",
      "  warnings.warn('Regressors in active set degenerate. '\n",
      "C:\\Users\\Rog\\anaconda3\\lib\\site-packages\\sklearn\\linear_model\\_least_angle.py:615: ConvergenceWarning: Regressors in active set degenerate. Dropping a regressor, after 163 iterations, i.e. alpha=3.002e-05, with an active set of 147 regressors, and the smallest cholesky pivot element being 1.490e-08. Reduce max_iter or increase eps parameters.\n",
      "  warnings.warn('Regressors in active set degenerate. '\n",
      "C:\\Users\\Rog\\anaconda3\\lib\\site-packages\\sklearn\\linear_model\\_least_angle.py:615: ConvergenceWarning: Regressors in active set degenerate. Dropping a regressor, after 163 iterations, i.e. alpha=3.002e-05, with an active set of 147 regressors, and the smallest cholesky pivot element being 2.788e-08. Reduce max_iter or increase eps parameters.\n",
      "  warnings.warn('Regressors in active set degenerate. '\n",
      "C:\\Users\\Rog\\anaconda3\\lib\\site-packages\\sklearn\\linear_model\\_least_angle.py:615: ConvergenceWarning: Regressors in active set degenerate. Dropping a regressor, after 163 iterations, i.e. alpha=3.002e-05, with an active set of 147 regressors, and the smallest cholesky pivot element being 2.107e-08. Reduce max_iter or increase eps parameters.\n",
      "  warnings.warn('Regressors in active set degenerate. '\n",
      "C:\\Users\\Rog\\anaconda3\\lib\\site-packages\\sklearn\\linear_model\\_least_angle.py:615: ConvergenceWarning: Regressors in active set degenerate. Dropping a regressor, after 163 iterations, i.e. alpha=3.002e-05, with an active set of 147 regressors, and the smallest cholesky pivot element being 1.825e-08. Reduce max_iter or increase eps parameters.\n",
      "  warnings.warn('Regressors in active set degenerate. '\n",
      "C:\\Users\\Rog\\anaconda3\\lib\\site-packages\\sklearn\\linear_model\\_least_angle.py:642: ConvergenceWarning: Early stopping the lars path, as the residues are small and the current value of alpha is no longer well controlled. 170 iterations, alpha=2.647e-05, previous alpha=2.623e-05, with an active set of 149 regressors.\n",
      "  warnings.warn('Early stopping the lars path, as the residues '\n",
      "C:\\Users\\Rog\\anaconda3\\lib\\site-packages\\sklearn\\linear_model\\_least_angle.py:615: ConvergenceWarning: Regressors in active set degenerate. Dropping a regressor, after 107 iterations, i.e. alpha=8.455e-05, with an active set of 105 regressors, and the smallest cholesky pivot element being 2.220e-16. Reduce max_iter or increase eps parameters.\n",
      "  warnings.warn('Regressors in active set degenerate. '\n",
      "C:\\Users\\Rog\\anaconda3\\lib\\site-packages\\sklearn\\linear_model\\_least_angle.py:615: ConvergenceWarning: Regressors in active set degenerate. Dropping a regressor, after 109 iterations, i.e. alpha=8.345e-05, with an active set of 107 regressors, and the smallest cholesky pivot element being 1.490e-08. Reduce max_iter or increase eps parameters.\n",
      "  warnings.warn('Regressors in active set degenerate. '\n",
      "C:\\Users\\Rog\\anaconda3\\lib\\site-packages\\sklearn\\linear_model\\_least_angle.py:615: ConvergenceWarning: Regressors in active set degenerate. Dropping a regressor, after 109 iterations, i.e. alpha=8.345e-05, with an active set of 107 regressors, and the smallest cholesky pivot element being 2.107e-08. Reduce max_iter or increase eps parameters.\n",
      "  warnings.warn('Regressors in active set degenerate. '\n",
      "C:\\Users\\Rog\\anaconda3\\lib\\site-packages\\sklearn\\linear_model\\_least_angle.py:615: ConvergenceWarning: Regressors in active set degenerate. Dropping a regressor, after 143 iterations, i.e. alpha=4.172e-05, with an active set of 139 regressors, and the smallest cholesky pivot element being 1.490e-08. Reduce max_iter or increase eps parameters.\n",
      "  warnings.warn('Regressors in active set degenerate. '\n",
      "C:\\Users\\Rog\\anaconda3\\lib\\site-packages\\sklearn\\linear_model\\_least_angle.py:642: ConvergenceWarning: Early stopping the lars path, as the residues are small and the current value of alpha is no longer well controlled. 147 iterations, alpha=3.945e-05, previous alpha=3.911e-05, with an active set of 142 regressors.\n",
      "  warnings.warn('Early stopping the lars path, as the residues '\n"
     ]
    },
    {
     "data": {
      "image/png": "[encoded data removed]",
      "text/plain": [
       "<Figure size 720x360 with 1 Axes>"
      ]
     },
     "metadata": {
      "needs_background": "light"
     },
     "output_type": "display_data"
    },
    {
     "name": "stdout",
     "output_type": "stream",
     "text": [
      "                       model      rmse\n",
      "5      DecisionTreeRegressor  0.418842\n",
      "6      RandomForestRegressor  0.637060\n",
      "7  GradientBoostingRegressor  0.661523\n",
      "8          CatBoostRegressor  0.663401\n",
      "9               XGBRegressor  0.793498\n",
      "0                 Polynomial  0.890672\n",
      "1                    RidgeCV  0.945260\n",
      "2                    LassoCV  0.958235\n",
      "3                LassoLarsCV  1.012749\n",
      "4                 ElasticNet  1.016497\n"
     ]
    },
    {
     "data": {
      "text/plain": [
       "GradientBoostingRegressor()"
      ]
     },
     "execution_count": 17,
     "metadata": {},
     "output_type": "execute_result"
    }
   ],
   "source": [
    "predict(X_train, y_train, X_test, y_test)"
   ]
  },
  {
   "cell_type": "code",
   "execution_count": 18,
   "id": "4d18e12c",
   "metadata": {},
   "outputs": [
    {
     "name": "stdout",
     "output_type": "stream",
     "text": [
      "0.949509376020645\n"
     ]
    }
   ],
   "source": [
    "# Tune Ridge\n",
    "from sklearn.linear_model import RidgeCV\n",
    "\n",
    "ridge_reg = RidgeCV(alphas = [0.01, 0.03, 0.06, 0.1, 0.3, 0.6, 1, 3, 6, 10, 13, 17, 20, 22, 23, 30, 60])\n",
    "ridge_reg.fit(X_train, y_train)\n",
    "\n",
    "alpha = ridge_reg.alpha_\n",
    "y_pred = ridge_reg.predict(X_test)\n",
    "print(np.sqrt(mean_squared_error(y_pred, y_test)))"
   ]
  },
  {
   "cell_type": "code",
   "execution_count": 19,
   "id": "494c32e2",
   "metadata": {},
   "outputs": [
    {
     "name": "stdout",
     "output_type": "stream",
     "text": [
      "25.3\n"
     ]
    }
   ],
   "source": [
    "ridge_reg = RidgeCV(alphas = [alpha, alpha * 0.85, alpha * 0.9, alpha * 0.95, alpha, alpha * 1.1, alpha * 1.2, alpha * 1.3])\n",
    "ridge_reg.fit(X_train, y_train)\n",
    "print(ridge_reg.alpha_)"
   ]
  },
  {
   "cell_type": "code",
   "execution_count": 20,
   "id": "539f9305",
   "metadata": {},
   "outputs": [
    {
     "name": "stdout",
     "output_type": "stream",
     "text": [
      "Ridge picked 215 features and eliminated the other 3 features\n"
     ]
    },
    {
     "data": {
      "image/png": "[encoded data removed]",
      "text/plain": [
       "<Figure size 432x288 with 1 Axes>"
      ]
     },
     "metadata": {
      "needs_background": "light"
     },
     "output_type": "display_data"
    }
   ],
   "source": [
    "coefs = pd.Series(ridge_reg.coef_, index = X_train.columns)\n",
    "print(\"Ridge picked \" + str(sum(coefs != 0)) + \" features and eliminated the other \" +  \\\n",
    "      str(sum(coefs == 0)) + \" features\")\n",
    "imp_coefs = pd.concat([coefs.sort_values().head(10),\n",
    "                     coefs.sort_values().tail(10)])\n",
    "imp_coefs.plot(kind = \"barh\")\n",
    "plt.title(\"Coefficients in the Ridge Model\")\n",
    "plt.show()"
   ]
  },
  {
   "cell_type": "code",
   "execution_count": 21,
   "id": "99a445c0",
   "metadata": {},
   "outputs": [],
   "source": [
    "housing_tr = pd.read_csv(r'C:\\Users\\Rog\\Desktop\\Housing\\train.csv')\n",
    "housing_te = pd.read_csv(r'C:\\Users\\Rog\\Desktop\\Housing\\test.csv')"
   ]
  },
  {
   "cell_type": "code",
   "execution_count": 22,
   "id": "1098c49e",
   "metadata": {},
   "outputs": [],
   "source": [
    "housing_tr.drop('SalePrice', axis = 1, inplace = True)"
   ]
  },
  {
   "cell_type": "code",
   "execution_count": 23,
   "id": "f97809c5",
   "metadata": {},
   "outputs": [
    {
     "name": "stdout",
     "output_type": "stream",
     "text": [
      "0.7934976229247955\n"
     ]
    }
   ],
   "source": [
    "xgbr_reg = XGBRegressor()\n",
    "xgbr_reg.fit(X_train,y_train)\n",
    "y_pred = xgbr_reg.predict(X_test)\n",
    "print(np.sqrt(mean_squared_error(y_pred, y_test)))"
   ]
  },
  {
   "cell_type": "code",
   "execution_count": 24,
   "id": "c5c56ab5",
   "metadata": {},
   "outputs": [],
   "source": [
    "housing_te_id = housing_te['Id']\n",
    "\n",
    "housing_te_pr, num_features = preprocess(housing_te)\n",
    "housing_tr_pr, num_features = preprocess(housing_tr)"
   ]
  },
  {
   "cell_type": "code",
   "execution_count": 25,
   "id": "89d60598",
   "metadata": {},
   "outputs": [
    {
     "data": {
      "text/plain": [
       "array(['BsmtFinSF1', 'ScreenPorch', 'BsmtFinSF2', 'OvarallCond',\n",
       "       'MasVnrArea', 'LotFrontage', 'HalfBath', 'FullBath', 'OpenPorchSF',\n",
       "       'WoodDeckSF', 'YearBuilt', 'LowQualFinSF', 'GrLivArea',\n",
       "       'MSSubClass', 'PoolArea', 'MiscVal', 'EnclosedPorch', '2ndFlrSF',\n",
       "       'GarageCars', '3SsnPorch', 'KitchenAbvGr', 'TotalBsmtSF',\n",
       "       'Fireplaces', 'BedroomAbvGr', 'MoSold', 'YrSold', 'LotArea',\n",
       "       'BsmtHalfBath', 'MSZoning_FV', 'MSZoning_RH', 'MSZoning_RL',\n",
       "       'MSZoning_RM', 'Street_Pave', 'Alley_No', 'Alley_Pave',\n",
       "       'LandContour_HLS', 'LandContour_Low', 'LandContour_Lvl',\n",
       "       'LotConfig_CulDSac', 'LotConfig_FR2', 'LotConfig_FR3',\n",
       "       'LotConfig_Inside', 'Neighborhood_Blueste', 'Neighborhood_BrDale',\n",
       "       'Neighborhood_BrkSide', 'Neighborhood_ClearCr',\n",
       "       'Neighborhood_CollgCr', 'Neighborhood_Crawfor',\n",
       "       'Neighborhood_Edwards', 'Neighborhood_Gilbert',\n",
       "       'Neighborhood_IDOTRR', 'Neighborhood_MeadowV',\n",
       "       'Neighborhood_Mitchel', 'Neighborhood_NAmes',\n",
       "       'Neighborhood_NPkVill', 'Neighborhood_NWAmes',\n",
       "       'Neighborhood_NoRidge', 'Neighborhood_NridgHt',\n",
       "       'Neighborhood_OldTown', 'Neighborhood_SWISU',\n",
       "       'Neighborhood_Sawyer', 'Neighborhood_SawyerW',\n",
       "       'Neighborhood_Somerst', 'Neighborhood_StoneBr',\n",
       "       'Neighborhood_Timber', 'Neighborhood_Veenker', 'Condition1_Feedr',\n",
       "       'Condition1_Norm', 'Condition1_PosA', 'Condition1_PosN',\n",
       "       'Condition1_RRAe', 'Condition1_RRAn', 'Condition1_RRNe',\n",
       "       'Condition1_RRNn', 'Condition2_Feedr', 'Condition2_Norm',\n",
       "       'Condition2_PosA', 'Condition2_PosN', 'Condition2_RRAe',\n",
       "       'Condition2_RRAn', 'Condition2_RRNn', 'BldgType_2fmCon',\n",
       "       'BldgType_Duplex', 'BldgType_Twnhs', 'BldgType_TwnhsE',\n",
       "       'HouseStyle_1.5Unf', 'HouseStyle_1Story', 'HouseStyle_2.5Fin',\n",
       "       'HouseStyle_2.5Unf', 'HouseStyle_2Story', 'HouseStyle_SFoyer',\n",
       "       'HouseStyle_SLvl', 'RoofStyle_Gable', 'RoofStyle_Gambrel',\n",
       "       'RoofStyle_Hip', 'RoofStyle_Mansard', 'RoofStyle_Shed',\n",
       "       'RoofMatl_CompShg', 'RoofMatl_Membran', 'RoofMatl_Metal',\n",
       "       'RoofMatl_Roll', 'RoofMatl_Tar&Grv', 'RoofMatl_WdShake',\n",
       "       'RoofMatl_WdShngl', 'Exterior1st_AsphShn', 'Exterior1st_BrkComm',\n",
       "       'Exterior1st_BrkFace', 'Exterior1st_CBlock', 'Exterior1st_CemntBd',\n",
       "       'Exterior1st_HdBoard', 'Exterior1st_ImStucc',\n",
       "       'Exterior1st_MetalSd', 'Exterior1st_Plywood', 'Exterior1st_Stone',\n",
       "       'Exterior1st_Stucco', 'Exterior1st_VinylSd', 'Exterior1st_Wd Sdng',\n",
       "       'Exterior1st_WdShing', 'Exterior2nd_AsphShn',\n",
       "       'Exterior2nd_Brk Cmn', 'Exterior2nd_BrkFace', 'Exterior2nd_CBlock',\n",
       "       'Exterior2nd_CmentBd', 'Exterior2nd_HdBoard',\n",
       "       'Exterior2nd_ImStucc', 'Exterior2nd_MetalSd', 'Exterior2nd_Other',\n",
       "       'Exterior2nd_Plywood', 'Exterior2nd_Stone', 'Exterior2nd_Stucco',\n",
       "       'Exterior2nd_VinylSd', 'Exterior2nd_Wd Sdng',\n",
       "       'Exterior2nd_Wd Shng', 'MasVnrType_BrkFace', 'MasVnrType_No',\n",
       "       'MasVnrType_None', 'MasVnrType_Stone', 'Foundation_CBlock',\n",
       "       'Foundation_PConc', 'Foundation_Slab', 'Foundation_Stone',\n",
       "       'Foundation_Wood', 'Heating_GasA', 'Heating_GasW', 'Heating_Grav',\n",
       "       'Heating_OthW', 'Heating_Wall', 'CentralAir_Y', 'Electrical_FuseF',\n",
       "       'Electrical_FuseP', 'Electrical_Mix', 'Electrical_SBrkr',\n",
       "       'GarageType_Attchd', 'GarageType_Basment', 'GarageType_BuiltIn',\n",
       "       'GarageType_CarPort', 'GarageType_Detchd', 'GarageType_No',\n",
       "       'PoolQC_Fa', 'PoolQC_Gd', 'Fence_GdWo', 'Fence_MnPrv',\n",
       "       'Fence_MnWw', 'Fence_No', 'MiscFeature_No', 'MiscFeature_Othr',\n",
       "       'MiscFeature_Shed', 'MiscFeature_TenC', 'SaleType_CWD',\n",
       "       'SaleType_Con', 'SaleType_ConLD', 'SaleType_ConLI',\n",
       "       'SaleType_ConLw', 'SaleType_New', 'SaleType_Oth', 'SaleType_WD',\n",
       "       'SaleCondition_AdjLand', 'SaleCondition_Alloca',\n",
       "       'SaleCondition_Family', 'SaleCondition_Normal',\n",
       "       'SaleCondition_Partial', 'GarageQual', 'GarageCond', 'LotShape',\n",
       "       'Utilities', 'LandSlope', 'ExterQual', 'ExterCond', 'BsmtQual',\n",
       "       'BsmtCond', 'BsmtExposure', 'BsmtFinType1', 'BsmtFinType2',\n",
       "       'HeatingQC', 'KitchenQual', 'Functional', 'FireplaceQu',\n",
       "       'GarageFinish', 'PavedDrive', 'OverallQual', 'OverallCond',\n",
       "       'FireplaceQu_ind', 'LotFrontage_ind', 'GarageType_ind',\n",
       "       'GarageFinish_ind', 'GarageQual_ind', 'GarageCond_ind',\n",
       "       'BsmtExposure_ind', 'BsmtFinType2_ind', 'BsmtFinType1_ind',\n",
       "       'BsmtCond_ind', 'BsmtQual_ind', 'MasVnrType_ind', 'MasVnrArea_ind',\n",
       "       'PoolArea_ind', 'MiscFeature_ind', 'Alley_ind', 'Fence_ind'],\n",
       "      dtype=object)"
      ]
     },
     "execution_count": 25,
     "metadata": {},
     "output_type": "execute_result"
    }
   ],
   "source": [
    "housing_tr_pr.columns.values"
   ]
  },
  {
   "cell_type": "code",
   "execution_count": 26,
   "id": "818998de",
   "metadata": {},
   "outputs": [
    {
     "data": {
      "text/plain": [
       "(1459, 202)"
      ]
     },
     "execution_count": 26,
     "metadata": {},
     "output_type": "execute_result"
    }
   ],
   "source": [
    "housing_te_pr.shape"
   ]
  },
  {
   "cell_type": "code",
   "execution_count": 27,
   "id": "eb63c073",
   "metadata": {},
   "outputs": [
    {
     "data": {
      "text/plain": [
       "(1460, 218)"
      ]
     },
     "execution_count": 27,
     "metadata": {},
     "output_type": "execute_result"
    }
   ],
   "source": [
    "housing_tr_pr.shape"
   ]
  },
  {
   "cell_type": "code",
   "execution_count": 28,
   "id": "8de2d012",
   "metadata": {},
   "outputs": [],
   "source": [
    "dummie_diff = list(set(housing_tr_pr.columns) - set(housing_te_pr.columns))\n",
    "housing_te_pr[[dummie_diff]] = 0"
   ]
  },
  {
   "cell_type": "code",
   "execution_count": 29,
   "id": "ac18675c",
   "metadata": {},
   "outputs": [],
   "source": [
    "housing_te_pr[[dummie_diff]] = 0"
   ]
  },
  {
   "cell_type": "code",
   "execution_count": 30,
   "id": "1682bffa",
   "metadata": {},
   "outputs": [],
   "source": [
    "housing_te_pred = xgbr_reg.predict(housing_te_pr)"
   ]
  },
  {
   "cell_type": "code",
   "execution_count": 31,
   "id": "104505e9",
   "metadata": {},
   "outputs": [],
   "source": [
    "housing_te_pred = np.expm1(housing_te_pred)"
   ]
  },
  {
   "cell_type": "code",
   "execution_count": 32,
   "id": "51626e20",
   "metadata": {},
   "outputs": [
    {
     "data": {
      "text/plain": [
       "array([105309.42 ,  90080.164, 111837.93 , ..., 103984.59 , 101966.72 ,\n",
       "       114418.07 ], dtype=float32)"
      ]
     },
     "execution_count": 32,
     "metadata": {},
     "output_type": "execute_result"
    }
   ],
   "source": [
    "housing_te_pred"
   ]
  },
  {
   "cell_type": "code",
   "execution_count": 33,
   "id": "224eecf5",
   "metadata": {},
   "outputs": [],
   "source": [
    "pred_df = pd.concat([housing_te_id, pd.Series(housing_te_pred)], axis=1)\n",
    "pred_df.columns = ['Id', 'SalePrice']"
   ]
  },
  {
   "cell_type": "code",
   "execution_count": 34,
   "id": "91bb3d68",
   "metadata": {},
   "outputs": [],
   "source": [
    "pred_df.set_index('Id', inplace = True)"
   ]
  }
 ],
 "metadata": {
  "kernelspec": {
   "display_name": "Python 3 (ipykernel)",
   "language": "python",
   "name": "python3"
  },
  "language_info": {
   "codemirror_mode": {
    "name": "ipython",
    "version": 3
   },
   "file_extension": ".py",
   "mimetype": "text/x-python",
   "name": "python",
   "nbconvert_exporter": "python",
   "pygments_lexer": "ipython3",
   "version": "3.9.7"
  }
 },
 "nbformat": 4,
 "nbformat_minor": 5
}
